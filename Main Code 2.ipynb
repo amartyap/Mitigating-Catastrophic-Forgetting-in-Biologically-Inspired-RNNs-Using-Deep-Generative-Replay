{
 "cells": [
  {
   "cell_type": "code",
   "execution_count": 143,
   "metadata": {},
   "outputs": [],
   "source": [
    "import numpy as np\n",
    "import torch\n",
    "import torchvision\n",
    "import matplotlib.pyplot as plt\n",
    "from time import time\n",
    "from torchvision import datasets, transforms\n",
    "from torch import nn, optim\n",
    "import torch.nn.functional as F\n",
    "from torch.utils.data import Dataset, DataLoader"
   ]
  },
  {
   "cell_type": "code",
   "execution_count": 204,
   "metadata": {},
   "outputs": [],
   "source": [
    "#trainset_01 = datasets.MNIST('/Users/Amartya/data', train=True, download=True,\n",
    "                   #transform = np.asarray)\n",
    "trainset_01 = datasets.MNIST('/Users/Amartya/data', train=True, download=True,\n",
    "                   transform = transforms.ToTensor())\n",
    "idx = trainset_01.targets <= 1\n",
    "trainset_01.targets = trainset_01.targets[idx]\n",
    "trainset_01.data = trainset_01.data[idx]\n",
    "train_loader01 = torch.utils.data.DataLoader(trainset_01,\n",
    "    batch_size=64, shuffle=True)\n",
    "\n",
    "def view_samples(samples):\n",
    "    fig, axes = plt.subplots(figsize=(7,7), nrows=4, ncols=4, sharey=True, sharex=True)\n",
    "    for ax, img in zip(axes.flatten(), samples):\n",
    "        img = img.detach()\n",
    "        ax.xaxis.set_visible(False)\n",
    "        ax.yaxis.set_visible(False)\n",
    "        im = ax.imshow(img.reshape((28,28)), cmap='Greys_r')"
   ]
  },
  {
   "cell_type": "code",
   "execution_count": 205,
   "metadata": {},
   "outputs": [
    {
     "name": "stdout",
     "output_type": "stream",
     "text": [
      "GPU not available, CPU used\n"
     ]
    }
   ],
   "source": [
    "# torch.cuda.is_available() checks and returns a Boolean True if a GPU is available, else it'll return False\n",
    "is_cuda = torch.cuda.is_available()\n",
    "\n",
    "# If we have a GPU available, we'll set our device to GPU. We'll use this device variable later in our code.\n",
    "if is_cuda:\n",
    "    device = torch.device(\"cuda\")\n",
    "    print(\"GPU is available\")\n",
    "else:\n",
    "    device = torch.device(\"cpu\")\n",
    "    print(\"GPU not available, CPU used\")\n",
    "\n"
   ]
  },
  {
   "cell_type": "code",
   "execution_count": 208,
   "metadata": {},
   "outputs": [],
   "source": [
    "class Generator1(nn.Module):\n",
    "\n",
    "    def __init__(self, input_size, hidden_dim, output_size):\n",
    "        super(Generator1, self).__init__()\n",
    "        \n",
    "        # define hidden linear layers\n",
    "        self.fc1 = nn.Linear(input_size, hidden_dim)\n",
    "        self.fc2 = nn.Linear(hidden_dim, hidden_dim*2)\n",
    "        self.fc3 = nn.Linear(hidden_dim*2, hidden_dim*4)\n",
    "        \n",
    "        # final fully-connected layer\n",
    "        self.fc4 = nn.Linear(hidden_dim*4, output_size)\n",
    "        \n",
    "        # dropout layer \n",
    "        self.dropout = nn.Dropout(0.3)\n",
    "\n",
    "    def forward(self, x):\n",
    "        # all hidden layers\n",
    "        x = F.leaky_relu(self.fc1(x), 0.2) # (input, negative_slope=0.2)\n",
    "        x = self.dropout(x)\n",
    "        x = F.leaky_relu(self.fc2(x), 0.2)\n",
    "        x = self.dropout(x)\n",
    "        x = F.leaky_relu(self.fc3(x), 0.2)\n",
    "        x = self.dropout(x)\n",
    "        # final layer with tanh applied\n",
    "        out = F.tanh(self.fc4(x))\n",
    "\n",
    "        return out\n",
    "    \n",
    "class Discriminator1(nn.Module):\n",
    "\n",
    "    def __init__(self, input_size, hidden_dim, output_size):\n",
    "        super(Discriminator1, self).__init__()\n",
    "        \n",
    "        # define hidden linear layers\n",
    "        self.fc1 = nn.Linear(input_size, hidden_dim*4)\n",
    "        self.fc2 = nn.Linear(hidden_dim*4, hidden_dim*2)\n",
    "        self.fc3 = nn.Linear(hidden_dim*2, hidden_dim)\n",
    "        \n",
    "        # final fully-connected layer\n",
    "        self.fc4 = nn.Linear(hidden_dim, output_size)\n",
    "        \n",
    "        # dropout layer \n",
    "        self.dropout = nn.Dropout(0.3)\n",
    "        \n",
    "        \n",
    "    def forward(self, x):\n",
    "        # flatten image\n",
    "        #x = x.float()\n",
    "        x = x.view(-1, 28*28)\n",
    "        # all hidden layers\n",
    "        x = F.leaky_relu(self.fc1(x), 0.2) # (input, negative_slope=0.2)\n",
    "        x = self.dropout(x)\n",
    "        x = F.leaky_relu(self.fc2(x), 0.2)\n",
    "        x = self.dropout(x)\n",
    "        x = F.leaky_relu(self.fc3(x), 0.2)\n",
    "        x = self.dropout(x)\n",
    "        # final layer\n",
    "        out = self.fc4(x)\n",
    "\n",
    "        return out\n",
    "\n"
   ]
  },
  {
   "cell_type": "code",
   "execution_count": 209,
   "metadata": {},
   "outputs": [],
   "source": [
    "# Size of input image to discriminator (28*28)\n",
    "input_size = 784\n",
    "# Size of discriminator output (real or fake)\n",
    "d_output_size = 1\n",
    "# Size of last hidden layer in the discriminator\n",
    "d_hidden_size = 32\n",
    "\n",
    "# Generator hyperparams\n",
    "\n",
    "# Size of latent vector to give to generator\n",
    "z_size = 100\n",
    "# Size of discriminator output (generated image)\n",
    "g_output_size = 784\n",
    "# Size of first hidden layer in the generator\n",
    "g_hidden_size = 32"
   ]
  },
  {
   "cell_type": "code",
   "execution_count": 210,
   "metadata": {},
   "outputs": [
    {
     "name": "stdout",
     "output_type": "stream",
     "text": [
      "Discriminator1(\n",
      "  (fc1): Linear(in_features=784, out_features=128, bias=True)\n",
      "  (fc2): Linear(in_features=128, out_features=64, bias=True)\n",
      "  (fc3): Linear(in_features=64, out_features=32, bias=True)\n",
      "  (fc4): Linear(in_features=32, out_features=1, bias=True)\n",
      "  (dropout): Dropout(p=0.3, inplace=False)\n",
      ")\n",
      "Generator1(\n",
      "  (fc1): Linear(in_features=100, out_features=32, bias=True)\n",
      "  (fc2): Linear(in_features=32, out_features=64, bias=True)\n",
      "  (fc3): Linear(in_features=64, out_features=128, bias=True)\n",
      "  (fc4): Linear(in_features=128, out_features=784, bias=True)\n",
      "  (dropout): Dropout(p=0.3, inplace=False)\n",
      ")\n"
     ]
    }
   ],
   "source": [
    "# instantiate discriminator and generator\n",
    "D = Discriminator1(input_size, d_hidden_size, d_output_size)\n",
    "#D = Discriminator()\n",
    "G = Generator1(z_size, g_hidden_size, g_output_size)\n",
    "\n",
    "# check that they are as you expect\n",
    "print(D)\n",
    "print(G)\n",
    "\n",
    "def real_loss(D_out, smooth=False):\n",
    "    batch_size = D_out.size(0)\n",
    "    # label smoothing\n",
    "    if smooth:\n",
    "        # smooth, real labels = 0.9\n",
    "        labels = torch.ones(batch_size)*0.9\n",
    "    else:\n",
    "        labels = torch.ones(batch_size) # real labels = 1\n",
    "        \n",
    "    # numerically stable loss\n",
    "    criterion = nn.BCEWithLogitsLoss()\n",
    "    # calculate loss\n",
    "    loss = criterion(D_out.squeeze(), labels)\n",
    "    return loss\n",
    "\n",
    "def fake_loss(D_out):\n",
    "    batch_size = D_out.size(0)\n",
    "    labels = torch.zeros(batch_size) # fake labels = 0\n",
    "    criterion = nn.BCEWithLogitsLoss()\n",
    "    # calculate loss\n",
    "    loss = criterion(D_out.squeeze(), labels)\n",
    "    return loss\n",
    "\n",
    "lr = 0.002\n",
    "\n",
    "# Create optimizers for the discriminator and generator\n",
    "d_optimizer = optim.Adam(D.parameters(), lr)\n",
    "g_optimizer = optim.Adam(G.parameters(), lr)"
   ]
  },
  {
   "cell_type": "code",
   "execution_count": 211,
   "metadata": {},
   "outputs": [
    {
     "name": "stdout",
     "output_type": "stream",
     "text": [
      "Epoch [    1/   15] | d_loss: 1.3860 | g_loss: 0.6861\n",
      "Epoch [    1/   15] | d_loss: 1.1408 | g_loss: 0.7979\n",
      "Epoch [    1/   15] | d_loss: 0.7052 | g_loss: 2.0347\n",
      "Epoch [    1/   15] | d_loss: 0.5902 | g_loss: 3.7241\n",
      "Epoch [    2/   15] | d_loss: 0.6417 | g_loss: 10.2345\n",
      "Epoch [    2/   15] | d_loss: 0.6433 | g_loss: 5.0127\n",
      "Epoch [    2/   15] | d_loss: 1.0861 | g_loss: 4.0729\n",
      "Epoch [    2/   15] | d_loss: 0.9593 | g_loss: 3.1550\n",
      "Epoch [    3/   15] | d_loss: 1.5353 | g_loss: 0.9994\n",
      "Epoch [    3/   15] | d_loss: 1.0126 | g_loss: 2.5630\n",
      "Epoch [    3/   15] | d_loss: 0.6427 | g_loss: 5.0180\n",
      "Epoch [    3/   15] | d_loss: 0.5664 | g_loss: 4.9727\n",
      "Epoch [    4/   15] | d_loss: 0.8786 | g_loss: 4.8032\n",
      "Epoch [    4/   15] | d_loss: 0.8081 | g_loss: 4.8679\n",
      "Epoch [    4/   15] | d_loss: 1.1786 | g_loss: 1.5674\n",
      "Epoch [    4/   15] | d_loss: 1.1268 | g_loss: 0.9854\n",
      "Epoch [    5/   15] | d_loss: 0.9389 | g_loss: 1.1565\n",
      "Epoch [    5/   15] | d_loss: 0.7146 | g_loss: 1.9021\n",
      "Epoch [    5/   15] | d_loss: 0.7267 | g_loss: 2.9003\n",
      "Epoch [    5/   15] | d_loss: 0.8043 | g_loss: 2.3381\n",
      "Epoch [    6/   15] | d_loss: 0.7317 | g_loss: 2.3423\n",
      "Epoch [    6/   15] | d_loss: 0.6537 | g_loss: 3.2713\n",
      "Epoch [    6/   15] | d_loss: 0.7709 | g_loss: 2.8664\n",
      "Epoch [    6/   15] | d_loss: 0.5393 | g_loss: 4.6031\n",
      "Epoch [    7/   15] | d_loss: 0.6733 | g_loss: 2.9606\n",
      "Epoch [    7/   15] | d_loss: 0.4896 | g_loss: 5.5598\n",
      "Epoch [    7/   15] | d_loss: 0.6555 | g_loss: 3.8045\n",
      "Epoch [    7/   15] | d_loss: 0.8824 | g_loss: 3.1053\n",
      "Epoch [    8/   15] | d_loss: 0.6316 | g_loss: 4.3837\n",
      "Epoch [    8/   15] | d_loss: 1.0400 | g_loss: 2.6375\n",
      "Epoch [    8/   15] | d_loss: 0.8988 | g_loss: 2.8310\n",
      "Epoch [    8/   15] | d_loss: 0.6873 | g_loss: 2.6048\n",
      "Epoch [    9/   15] | d_loss: 0.7071 | g_loss: 2.2224\n",
      "Epoch [    9/   15] | d_loss: 0.6339 | g_loss: 5.3741\n",
      "Epoch [    9/   15] | d_loss: 0.9440 | g_loss: 2.3200\n",
      "Epoch [    9/   15] | d_loss: 0.9878 | g_loss: 1.9436\n",
      "Epoch [   10/   15] | d_loss: 1.0085 | g_loss: 3.1360\n",
      "Epoch [   10/   15] | d_loss: 0.8806 | g_loss: 1.6957\n",
      "Epoch [   10/   15] | d_loss: 0.7259 | g_loss: 2.4801\n",
      "Epoch [   10/   15] | d_loss: 0.8164 | g_loss: 2.1333\n",
      "Epoch [   11/   15] | d_loss: 0.7464 | g_loss: 2.8698\n",
      "Epoch [   11/   15] | d_loss: 0.9372 | g_loss: 2.8664\n",
      "Epoch [   11/   15] | d_loss: 0.7280 | g_loss: 3.6131\n",
      "Epoch [   11/   15] | d_loss: 0.9387 | g_loss: 1.8061\n",
      "Epoch [   12/   15] | d_loss: 0.9035 | g_loss: 2.0526\n",
      "Epoch [   12/   15] | d_loss: 0.9572 | g_loss: 2.2565\n",
      "Epoch [   12/   15] | d_loss: 1.0100 | g_loss: 1.3137\n",
      "Epoch [   12/   15] | d_loss: 0.8817 | g_loss: 2.9805\n",
      "Epoch [   13/   15] | d_loss: 0.8039 | g_loss: 3.2235\n",
      "Epoch [   13/   15] | d_loss: 0.7686 | g_loss: 2.0884\n",
      "Epoch [   13/   15] | d_loss: 0.6789 | g_loss: 3.2640\n",
      "Epoch [   13/   15] | d_loss: 0.7131 | g_loss: 3.7221\n",
      "Epoch [   14/   15] | d_loss: 0.7228 | g_loss: 4.2016\n",
      "Epoch [   14/   15] | d_loss: 0.7539 | g_loss: 4.0257\n",
      "Epoch [   14/   15] | d_loss: 0.6158 | g_loss: 3.9778\n",
      "Epoch [   14/   15] | d_loss: 0.9451 | g_loss: 1.7411\n",
      "Epoch [   15/   15] | d_loss: 0.9242 | g_loss: 2.1354\n",
      "Epoch [   15/   15] | d_loss: 0.8988 | g_loss: 3.1113\n",
      "Epoch [   15/   15] | d_loss: 0.8889 | g_loss: 1.8553\n",
      "Epoch [   15/   15] | d_loss: 0.9060 | g_loss: 1.6399\n"
     ]
    }
   ],
   "source": [
    "# training hyperparams\n",
    "num_epochs = 15\n",
    "\n",
    "# keep track of loss and generated, \"fake\" samples\n",
    "#samples = []\n",
    "#losses = []\n",
    "\n",
    "print_every = 50\n",
    "\n",
    "# Get some fixed data for sampling. These are images that are held\n",
    "# constant throughout training, and allow us to inspect the model's performance\n",
    "sample_size=16\n",
    "fixed_z = np.random.uniform(-1, 1, size=(sample_size, z_size))\n",
    "fixed_z = torch.from_numpy(fixed_z).float()\n",
    "\n",
    "# train the network\n",
    "D.train()\n",
    "G.train()\n",
    "for epoch in range(num_epochs):\n",
    "    \n",
    "    for batch_i, (real_images, _) in enumerate(train_loader01):\n",
    "                \n",
    "        real_images = real_images.to(device)\n",
    "        \n",
    "        batch_size = real_images.size(0)\n",
    "        \n",
    "        #real_images = real_images.view(-1, 28, 28)\n",
    "        \n",
    "        ## Important rescaling step ## \n",
    "        real_images = real_images*2 - 1  # rescale input images from [0,1) to [-1, 1)\n",
    "        \n",
    "        # ============================================\n",
    "        #            TRAIN THE DISCRIMINATOR\n",
    "        # ============================================\n",
    "        \n",
    "        d_optimizer.zero_grad()\n",
    "        \n",
    "        # 1. Train with real images\n",
    "\n",
    "        # Compute the discriminator losses on real images \n",
    "        # smooth the real labels\n",
    "        D_real = D(real_images)\n",
    "        d_real_loss = real_loss(D_real, smooth=True)\n",
    "        \n",
    "        # 2. Train with fake images\n",
    "        \n",
    "        # Generate fake images\n",
    "        z = torch.empty([64, z_size]).uniform_(-1,1)\n",
    "        #z = torch.empty([64, 28, z_size]).uniform_(-1,1)\n",
    "        fake_images = G(z)\n",
    "        fake_images = fake_images.to(device)\n",
    "        #fake_images = fake_images.view(-1,28,28)\n",
    "        \n",
    "        # Compute the discriminator losses on fake images        \n",
    "        D_fake = D(fake_images)\n",
    "        d_fake_loss = fake_loss(D_fake)\n",
    "        \n",
    "        # add up loss and perform backprop\n",
    "        d_loss = d_real_loss + d_fake_loss\n",
    "        d_loss.backward()\n",
    "        d_optimizer.step()\n",
    "        \n",
    "        \n",
    "        # =========================================\n",
    "        #            TRAIN THE GENERATOR\n",
    "        # =========================================\n",
    "        g_optimizer.zero_grad()\n",
    "        \n",
    "        # 1. Train with fake images and flipped labels\n",
    "        \n",
    "        # Generate fake images\n",
    "        z = torch.empty([64, z_size]).uniform_(-1,1)\n",
    "        #z = torch.empty([64, 28, z_size]).uniform_(-1,1)\n",
    "        fake_images = G(z)\n",
    "        fake_images = fake_images.to(device)\n",
    "        #fake_images = fake_images.view(-1,28,28)\n",
    "        \n",
    "        # Compute the discriminator losses on fake images \n",
    "        # using flipped labels!\n",
    "        D_fake = D(fake_images)\n",
    "        g_loss = real_loss(D_fake) # use real loss to flip labels\n",
    "        \n",
    "        # perform backprop\n",
    "        g_loss.backward()\n",
    "        g_optimizer.step()\n",
    "\n",
    "        # Print some loss stats\n",
    "        if batch_i % print_every == 0:\n",
    "            # print discriminator and generator loss\n",
    "            print('Epoch [{:5d}/{:5d}] | d_loss: {:6.4f} | g_loss: {:6.4f}'.format(\n",
    "                    epoch+1, num_epochs, d_loss.item(), g_loss.item()))"
   ]
  },
  {
   "cell_type": "code",
   "execution_count": 188,
   "metadata": {},
   "outputs": [
    {
     "data": {
      "image/png": "[encoded data removed]",
      "text/plain": [
       "<Figure size 504x504 with 16 Axes>"
      ]
     },
     "metadata": {
      "needs_background": "light"
     },
     "output_type": "display_data"
    }
   ],
   "source": [
    "z = torch.empty([12665, z_size]).uniform_(-1,1)\n",
    "G.eval()\n",
    "samples=G(z)\n",
    "samples = (samples + 1)* 0.5\n",
    "view_samples(x[10:20])"
   ]
  },
  {
   "cell_type": "code",
   "execution_count": 214,
   "metadata": {},
   "outputs": [
    {
     "data": {
      "image/png": "[encoded data removed]",
      "text/plain": [
       "<Figure size 504x504 with 16 Axes>"
      ]
     },
     "metadata": {
      "needs_background": "light"
     },
     "output_type": "display_data"
    }
   ],
   "source": [
    "z = torch.empty([12665, z_size]).uniform_(-1,1)\n",
    "G.eval()\n",
    "samples=G(z)\n",
    "samples = (samples + 1)* 0.5\n",
    "samples = samples* 255\n",
    "view_samples(samples[70:90])"
   ]
  },
  {
   "cell_type": "code",
   "execution_count": 228,
   "metadata": {},
   "outputs": [
    {
     "data": {
      "text/plain": [
       "torch.Size([12665, 28, 28])"
      ]
     },
     "execution_count": 228,
     "metadata": {},
     "output_type": "execute_result"
    }
   ],
   "source": [
    "trainset_01.data.size()"
   ]
  },
  {
   "cell_type": "code",
   "execution_count": null,
   "metadata": {},
   "outputs": [],
   "source": []
  },
  {
   "cell_type": "code",
   "execution_count": null,
   "metadata": {},
   "outputs": [],
   "source": []
  }
 ],
 "metadata": {
  "kernelspec": {
   "display_name": "Python 3",
   "language": "python",
   "name": "python3"
  },
  "language_info": {
   "codemirror_mode": {
    "name": "ipython",
    "version": 3
   },
   "file_extension": ".py",
   "mimetype": "text/x-python",
   "name": "python",
   "nbconvert_exporter": "python",
   "pygments_lexer": "ipython3",
   "version": "3.6.8"
  }
 },
 "nbformat": 4,
 "nbformat_minor": 4
}
